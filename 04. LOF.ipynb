{
 "cells": [
  {
   "cell_type": "markdown",
   "metadata": {},
   "source": [
    "# Local Outlier Factor: LOF\n",
    "\n",
    "In this notebook we explore the using of LOF for anomaly detection. For this purpose, we will use the following procedure:\n",
    "\n",
    "1. We use the public test set for the training process. We randomly select 80% of the non-contaminated data for training, and the remaining 20% + contaminated data is used for validation.\n",
    "2. The performance of the model was measured over the private test set.\n",
    "\n",
    "We perform cross-validation to select the hyperparameter \"n_neighbors\", which defines the number of neighbors for the knn queries."
   ]
  },
  {
   "cell_type": "code",
   "execution_count": 1,
   "metadata": {},
   "outputs": [],
   "source": [
    "from sklearn.metrics import f1_score\n",
    "from sklearn.neighbors import LocalOutlierFactor\n",
    "\n",
    "import matplotlib.pyplot as plt\n",
    "import pandas as pd\n",
    "import numpy as np"
   ]
  },
  {
   "cell_type": "code",
   "execution_count": 7,
   "metadata": {},
   "outputs": [],
   "source": [
    "public_test = pd.read_pickle('public_test_data.pkl')\n",
    "public_test = public_test.replace([np.inf, -np.inf], np.nan)\n",
    "public_test = public_test.fillna(-999)\n",
    "\n",
    "x_data = public_test.drop(['hierClass', 'classALeRCE', 'challenge_oid', 'outClass', 'outType'], axis=1).values\n",
    "y_data = public_test.outClass"
   ]
  },
  {
   "cell_type": "code",
   "execution_count": 8,
   "metadata": {},
   "outputs": [],
   "source": [
    "def split_data(x_data, y_data):\n",
    "    x_non_contaminated = x_data[y_data=='Inlier']\n",
    "    y_non_contaminated = y_data[y_data=='Inlier'].values\n",
    "    selected_ixs = np.random.choice(x_non_contaminated.shape[0], \n",
    "                                int(x_non_contaminated.shape[0]*0.2), replace=False)\n",
    "    \n",
    "    x_selected_test = x_non_contaminated[[selected_ixs]]\n",
    "    y_selected_test = y_non_contaminated[[selected_ixs]]\n",
    "    \n",
    "    x_non_contaminated = np.delete(x_non_contaminated, selected_ixs, axis=0)    \n",
    "    \n",
    "    x_contaminated = x_data[y_data=='Outlier']\n",
    "    y_contaminated = y_data[y_data=='Outlier'].values\n",
    "    x_contaminated = np.concatenate((x_contaminated, x_selected_test), axis=0)\n",
    "    y_contaminated = np.concatenate((y_contaminated, y_selected_test), axis=0)\n",
    "    y_contaminated[y_contaminated=='Inlier']=1\n",
    "    y_contaminated[y_contaminated=='Outlier']=-1\n",
    "    \n",
    "    return x_non_contaminated, x_contaminated, y_contaminated.astype('int')"
   ]
  },
  {
   "cell_type": "code",
   "execution_count": 9,
   "metadata": {},
   "outputs": [
    {
     "name": "stdout",
     "output_type": "stream",
     "text": [
      "The f1-score for LOF using n_neighbor=5 is 90.85184960949326\n",
      "The f1-score for LOF using n_neighbor=5 is 90.81218581551693\n",
      "The f1-score for LOF using n_neighbor=5 is 90.85184960949326\n",
      "The f1-score for LOF using n_neighbor=5 is 90.77687553023877\n",
      "The f1-score for LOF using n_neighbor=5 is 90.85184960949326\n",
      "The f1-score for LOF using n_neighbor=10 is 90.85735044805037\n",
      "The f1-score for LOF using n_neighbor=10 is 90.85074174992431\n",
      "The f1-score for LOF using n_neighbor=10 is 90.8298001211387\n",
      "The f1-score for LOF using n_neighbor=10 is 90.85624318759841\n",
      "The f1-score for LOF using n_neighbor=10 is 90.8639583459466\n",
      "The f1-score for LOF using n_neighbor=20 is 90.85074174992431\n",
      "The f1-score for LOF using n_neighbor=20 is 90.86945991765562\n",
      "The f1-score for LOF using n_neighbor=20 is 90.86285195277021\n",
      "The f1-score for LOF using n_neighbor=20 is 90.86285195277021\n",
      "The f1-score for LOF using n_neighbor=20 is 90.8298001211387\n",
      "The f1-score for LOF using n_neighbor=30 is 90.86945991765562\n",
      "The f1-score for LOF using n_neighbor=30 is 90.83641208891042\n",
      "The f1-score for LOF using n_neighbor=30 is 90.84963362199478\n",
      "The f1-score for LOF using n_neighbor=30 is 90.80995941115889\n",
      "The f1-score for LOF using n_neighbor=30 is 90.86945991765562\n"
     ]
    }
   ],
   "source": [
    "neighbors = [5, 10, 20, 30]\n",
    "\n",
    "mean_f1 = []\n",
    "std_f1 = []\n",
    "for neighbor in neighbors:\n",
    "    f1s = []\n",
    "    for rep in range(5):\n",
    "        x_train, x_test, y_test = split_data(x_data, y_data)\n",
    "        clf = clf = LocalOutlierFactor(n_neighbors=neighbor, novelty=True, contamination=0.001).fit(x_train)\n",
    "        y_pred =  clf.predict(x_test)\n",
    "        f1 = f1_score(y_test, y_pred, average='binary')\n",
    "        f1s.append(f1)\n",
    "        print('The f1-score for LOF using n_neighbor={} is {}'.format(neighbor, f1*100))\n",
    "    mean_f1.append(np.mean(f1s))\n",
    "    std_f1.append(np.std(f1s))"
   ]
  },
  {
   "cell_type": "code",
   "execution_count": 11,
   "metadata": {},
   "outputs": [
    {
     "data": {
      "image/png": "[encoded data removed]",
      "text/plain": [
       "<Figure size 432x288 with 1 Axes>"
      ]
     },
     "metadata": {},
     "output_type": "display_data"
    }
   ],
   "source": [
    "plt.errorbar(neighbors, mean_f1, yerr=std_f1, color='k', ecolor='r')\n",
    "plt.grid()\n",
    "plt.show()"
   ]
  },
  {
   "cell_type": "markdown",
   "metadata": {},
   "source": [
    "## Using neighbors=20: "
   ]
  },
  {
   "cell_type": "code",
   "execution_count": 3,
   "metadata": {},
   "outputs": [
    {
     "name": "stderr",
     "output_type": "stream",
     "text": [
      "/home/ec2-user/anaconda3/envs/pytorch_p36/lib/python3.6/site-packages/ipykernel_launcher.py:8: SettingWithCopyWarning: \n",
      "A value is trying to be set on a copy of a slice from a DataFrame.\n",
      "Try using .loc[row_indexer,col_indexer] = value instead\n",
      "\n",
      "See the caveats in the documentation: http://pandas.pydata.org/pandas-docs/stable/indexing.html#indexing-view-versus-copy\n",
      "  \n",
      "/home/ec2-user/anaconda3/envs/pytorch_p36/lib/python3.6/site-packages/pandas/core/frame.py:3414: SettingWithCopyWarning: \n",
      "A value is trying to be set on a copy of a slice from a DataFrame\n",
      "\n",
      "See the caveats in the documentation: http://pandas.pydata.org/pandas-docs/stable/indexing.html#indexing-view-versus-copy\n",
      "  self._where(-key, value, inplace=True)\n"
     ]
    }
   ],
   "source": [
    "train = pd.read_pickle('train_data.pkl')\n",
    "train = train[(train['n_det_1']>=10) & (train['n_det_2']>=10)]\n",
    "train = train[train.hierClass=='Periodic']\n",
    "\n",
    "importances = np.load('importances.npy').item()\n",
    "x_train = train[importances['periodic_importance']]\n",
    "\n",
    "x_train[np.isnan(x_train)] = -999\n",
    "\n",
    "clf = LocalOutlierFactor(n_neighbors=20, novelty=True, contamination=0.001).fit(x_train)"
   ]
  },
  {
   "cell_type": "code",
   "execution_count": 4,
   "metadata": {},
   "outputs": [
    {
     "name": "stderr",
     "output_type": "stream",
     "text": [
      "/home/ec2-user/anaconda3/envs/pytorch_p36/lib/python3.6/site-packages/ipykernel_launcher.py:7: SettingWithCopyWarning: \n",
      "A value is trying to be set on a copy of a slice from a DataFrame.\n",
      "Try using .loc[row_indexer,col_indexer] = value instead\n",
      "\n",
      "See the caveats in the documentation: http://pandas.pydata.org/pandas-docs/stable/indexing.html#indexing-view-versus-copy\n",
      "  import sys\n",
      "/home/ec2-user/anaconda3/envs/pytorch_p36/lib/python3.6/site-packages/pandas/core/frame.py:3414: SettingWithCopyWarning: \n",
      "A value is trying to be set on a copy of a slice from a DataFrame\n",
      "\n",
      "See the caveats in the documentation: http://pandas.pydata.org/pandas-docs/stable/indexing.html#indexing-view-versus-copy\n",
      "  self._where(-key, value, inplace=True)\n"
     ]
    }
   ],
   "source": [
    "test = pd.read_pickle('test_data.pkl')\n",
    "test = test[(test['n_det_1']>=10) & (test['n_det_2']>=10)]\n",
    "test = test[test.hierClass=='Periodic']\n",
    "\n",
    "x_test = test[importances['periodic_importance']]\n",
    "\n",
    "x_test[np.isnan(x_test)] = -999"
   ]
  },
  {
   "cell_type": "code",
   "execution_count": 5,
   "metadata": {},
   "outputs": [],
   "source": [
    "x_in = x_test[test.outClass=='Inlier']\n",
    "x_out = x_test[test.outClass=='Outlier']\n",
    "\n",
    "x_ELL = x_test[test.classALeRCE == 'ELL']"
   ]
  },
  {
   "cell_type": "code",
   "execution_count": 6,
   "metadata": {},
   "outputs": [],
   "source": [
    "scores_in =  clf.score_samples(x_in)\n",
    "scores_out =  clf.score_samples(x_out)\n",
    "\n",
    "scores_ELL = clf.score_samples(x_ELL)"
   ]
  },
  {
   "cell_type": "code",
   "execution_count": 14,
   "metadata": {},
   "outputs": [
    {
     "data": {
      "text/plain": [
       "<matplotlib.legend.Legend at 0x7fef27b85a20>"
      ]
     },
     "execution_count": 14,
     "metadata": {},
     "output_type": "execute_result"
    },
    {
     "data": {
      "image/png": "[encoded data removed]",
      "text/plain": [
       "<Figure size 432x288 with 1 Axes>"
      ]
     },
     "metadata": {},
     "output_type": "display_data"
    }
   ],
   "source": [
    "plt.hist(scores_in, bins=100, color='b', alpha=0.3, density=True, label='Inlier')\n",
    "plt.hist(scores_out, bins=2, color='r', alpha=0.3, density=True, label='Outlier')\n",
    "plt.legend()"
   ]
  }
 ],
 "metadata": {
  "kernelspec": {
   "display_name": "Python 3",
   "language": "python",
   "name": "python3"
  },
  "language_info": {
   "codemirror_mode": {
    "name": "ipython",
    "version": 3
   },
   "file_extension": ".py",
   "mimetype": "text/x-python",
   "name": "python",
   "nbconvert_exporter": "python",
   "pygments_lexer": "ipython3",
   "version": "3.6.5"
  }
 },
 "nbformat": 4,
 "nbformat_minor": 2
}
