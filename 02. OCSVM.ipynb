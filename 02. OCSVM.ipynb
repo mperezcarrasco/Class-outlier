{
 "cells": [
  {
   "cell_type": "markdown",
   "metadata": {},
   "source": [
    "# One-class Support Vector Machine: OC-SVM\n",
    "\n",
    "In this notebook we explore the using of OC-SVM for anomaly detection. For this purpose, we will use the following procedure:\n",
    "\n",
    "1. We use the public test set for the training process. We randomly select 80% of the non-contaminated data for training, and the remaining 20% + contaminated data is used for validation.\n",
    "2. The performance of the model was measured over the private test set.\n",
    "\n",
    "We perform cross-validation to select the hyperparameter $\\nu$, which intuitively means the amount of contaminated data in the dataset.\n"
   ]
  },
  {
   "cell_type": "code",
   "execution_count": 2,
   "metadata": {},
   "outputs": [],
   "source": [
    "from sklearn.preprocessing import QuantileTransformer\n",
    "from sklearn.metrics import f1_score\n",
    "from sklearn.svm import OneClassSVM\n",
    "\n",
    "import matplotlib.pyplot as plt\n",
    "import pandas as pd\n",
    "import numpy as np"
   ]
  },
  {
   "cell_type": "code",
   "execution_count": 26,
   "metadata": {},
   "outputs": [],
   "source": [
    "public_test = pd.read_pickle('test_data.pkl')\n",
    "public_test = public_test.replace([np.inf, -np.inf], np.nan)\n",
    "\n",
    "scaler = MinMaxScaler()\n",
    "x_data = public_test.drop(['hierClass', 'classALeRCE', 'challenge_oid', 'outClass', 'outType'], axis=1)\n",
    "x_data = scaler.fit(x_data).transform(x_data)\n",
    "x_data[np.isnan(x_data)] = 0\n",
    "\n",
    "y_data = public_test.outClass"
   ]
  },
  {
   "cell_type": "code",
   "execution_count": 3,
   "metadata": {},
   "outputs": [],
   "source": [
    "def split_data(x, y):\n",
    "    x_non_contaminated = x_data[y_data=='Inlier']\n",
    "    y_non_contaminated = y_data[y_data=='Inlier'].values\n",
    "    selected_ixs = np.random.choice(x_non_contaminated.shape[0], \n",
    "                                int(x_non_contaminated.shape[0]*0.2), replace=False)\n",
    "    \n",
    "    x_selected_test = x_non_contaminated[[selected_ixs]]\n",
    "    y_selected_test = y_non_contaminated[[selected_ixs]]\n",
    "    \n",
    "    x_non_contaminated = np.delete(x_non_contaminated, selected_ixs, axis=0)    \n",
    "    \n",
    "    x_contaminated = x_data[y_data=='Outlier']\n",
    "    y_contaminated = y_data[y_data=='Outlier'].values\n",
    "    x_contaminated = np.concatenate((x_contaminated, x_selected_test), axis=0)\n",
    "    y_contaminated = np.concatenate((y_contaminated, y_selected_test), axis=0)\n",
    "    y_contaminated[y_contaminated=='Inlier']=1\n",
    "    y_contaminated[y_contaminated=='Outlier']=-1\n",
    "    \n",
    "    return x_non_contaminated, x_contaminated, y_contaminated.astype('int')"
   ]
  },
  {
   "cell_type": "code",
   "execution_count": 4,
   "metadata": {},
   "outputs": [
    {
     "name": "stdout",
     "output_type": "stream",
     "text": [
      "The f1-score for OC-SVM using nu=0.001 is 90.7481508427307\n",
      "The f1-score for OC-SVM using nu=0.001 is 90.80111501636165\n",
      "The f1-score for OC-SVM using nu=0.001 is 90.80884580430173\n",
      "The f1-score for OC-SVM using nu=0.001 is 90.74152670830048\n",
      "The f1-score for OC-SVM using nu=0.001 is 90.78787878787878\n",
      "The f1-score for OC-SVM using nu=0.005 is 90.61987736020885\n",
      "The f1-score for OC-SVM using nu=0.005 is 90.6663430027916\n",
      "The f1-score for OC-SVM using nu=0.005 is 90.59330782777677\n",
      "The f1-score for OC-SVM using nu=0.005 is 90.6873748710793\n",
      "The f1-score for OC-SVM using nu=0.005 is 90.52682748982195\n",
      "The f1-score for OC-SVM using nu=0.01 is 90.46344726918866\n",
      "The f1-score for OC-SVM using nu=0.01 is 90.49124513618676\n",
      "The f1-score for OC-SVM using nu=0.01 is 90.35007610350075\n",
      "The f1-score for OC-SVM using nu=0.01 is 90.47010886091346\n",
      "The f1-score for OC-SVM using nu=0.01 is 90.34890093162029\n",
      "The f1-score for OC-SVM using nu=0.015 is 90.21593265828962\n",
      "The f1-score for OC-SVM using nu=0.015 is 90.13551458918326\n",
      "The f1-score for OC-SVM using nu=0.015 is 90.23720958595037\n",
      "The f1-score for OC-SVM using nu=0.015 is 90.12210012210012\n",
      "The f1-score for OC-SVM using nu=0.015 is 90.12880776509371\n"
     ]
    }
   ],
   "source": [
    "nus = [0.001, 0.005, 0.01, 0.015]\n",
    "\n",
    "mean_f1 = []\n",
    "std_f1 = []\n",
    "for nu in nus:\n",
    "    f1s = []\n",
    "    for rep in range(5):\n",
    "        x_train, x_test, y_test = split_data(x_data, y_data)\n",
    "        clf = OneClassSVM(kernel='rbf', nu=nu).fit(x_train)\n",
    "        y_pred =  clf.predict(x_test)\n",
    "        f1 = f1_score(y_test, y_pred, average='binary')\n",
    "        f1s.append(f1)\n",
    "        print('The f1-score for OC-SVM using nu={} is {}'.format(nu, f1*100))\n",
    "    mean_f1.append(np.mean(f1s))\n",
    "    std_f1.append(np.std(f1s))"
   ]
  },
  {
   "cell_type": "code",
   "execution_count": 5,
   "metadata": {},
   "outputs": [
    {
     "data": {
      "image/png": "[encoded data removed]",
      "text/plain": [
       "<Figure size 432x288 with 1 Axes>"
      ]
     },
     "metadata": {},
     "output_type": "display_data"
    }
   ],
   "source": [
    "plt.errorbar(nus, mean_f1, yerr=std_f1, color='k', ecolor='r')\n",
    "plt.grid()\n",
    "plt.show()"
   ]
  },
  {
   "cell_type": "markdown",
   "metadata": {},
   "source": [
    "## Using nu=0.001:"
   ]
  },
  {
   "cell_type": "code",
   "execution_count": 3,
   "metadata": {},
   "outputs": [
    {
     "name": "stderr",
     "output_type": "stream",
     "text": [
      "/home/ec2-user/anaconda3/envs/pytorch_p36/lib/python3.6/site-packages/sklearn/svm/base.py:196: FutureWarning: The default value of gamma will change from 'auto' to 'scale' in version 0.22 to account better for unscaled features. Set gamma explicitly to 'auto' or 'scale' to avoid this warning.\n",
      "  \"avoid this warning.\", FutureWarning)\n"
     ]
    }
   ],
   "source": [
    "train = pd.read_pickle('train_data.pkl')\n",
    "train = train[(train['n_det_1']>=10) & (train['n_det_2']>=10)]\n",
    "\n",
    "importances = np.load('importances.npy').item()\n",
    "x_train = train[importances['hierarchical_importance']]\n",
    "\n",
    "scaler = QuantileTransformer(n_quantiles=5)\n",
    "x_train = scaler.fit(x_train).transform(x_train)\n",
    "x_train[np.isnan(x_train)] = 0\n",
    "\n",
    "\n",
    "clf = OneClassSVM(kernel='rbf', nu=0.001).fit(x_train)"
   ]
  },
  {
   "cell_type": "code",
   "execution_count": 4,
   "metadata": {},
   "outputs": [],
   "source": [
    "test = pd.read_pickle('test_data.pkl')\n",
    "test = test[(test['n_det_1']>=10) & (test['n_det_2']>=10)]\n",
    "\n",
    "x_test = test[importances['hierarchical_importance']]\n",
    "\n",
    "x_test = scaler.transform(x_test)\n",
    "x_test[np.isnan(x_test)] = 0\n"
   ]
  },
  {
   "cell_type": "code",
   "execution_count": 5,
   "metadata": {},
   "outputs": [],
   "source": [
    "x_in = x_test[test.outClass=='Inlier']\n",
    "x_out = x_test[test.outClass=='Outlier']\n",
    "\n",
    "x_ELL = x_test[test.classALeRCE == 'ELL']\n",
    "x_TDE = x_test[test.classALeRCE == 'TDE']\n",
    "x_SNIIb = x_test[test.classALeRCE == 'SNIIb']\n",
    "x_WR = x_test[test.classALeRCE == 'WRayot']"
   ]
  },
  {
   "cell_type": "code",
   "execution_count": 6,
   "metadata": {},
   "outputs": [],
   "source": [
    "scores_in =  clf.score_samples(x_in)\n",
    "scores_out =  clf.score_samples(x_out)\n",
    "\n",
    "scores_ELL = clf.score_samples(x_ELL)\n",
    "scores_TDE = clf.score_samples(x_TDE)\n",
    "scores_SNIIb = clf.score_samples(x_SNIIb)\n",
    "scores_WR = clf.score_samples(x_WR)"
   ]
  },
  {
   "cell_type": "code",
   "execution_count": 8,
   "metadata": {},
   "outputs": [
    {
     "data": {
      "text/plain": [
       "(array([0.47529883, 0.47529883, 0.        , 0.47529883, 0.        ,\n",
       "        0.        , 0.        , 0.        , 0.95059766, 0.47529883,\n",
       "        0.95059766, 0.47529883, 0.95059766, 0.47529883, 0.47529883,\n",
       "        0.47529883, 1.42589649, 0.47529883, 1.42589649, 0.95059766]),\n",
       " array([34.077703  , 34.16917864, 34.26065427, 34.3521299 , 34.44360553,\n",
       "        34.53508116, 34.6265568 , 34.71803243, 34.80950806, 34.90098369,\n",
       "        34.99245932, 35.08393496, 35.17541059, 35.26688622, 35.35836185,\n",
       "        35.44983748, 35.54131312, 35.63278875, 35.72426438, 35.81574001,\n",
       "        35.90721564]),\n",
       " <a list of 20 Patch objects>)"
      ]
     },
     "execution_count": 8,
     "metadata": {},
     "output_type": "execute_result"
    },
    {
     "data": {
      "image/png": "[encoded data removed]",
      "text/plain": [
       "<Figure size 432x288 with 1 Axes>"
      ]
     },
     "metadata": {},
     "output_type": "display_data"
    }
   ],
   "source": [
    "plt.hist(scores_in, bins=50, color='b', alpha=0.3, density=True, label='Inlier')\n",
    "plt.hist(scores_out, bins=20, color='r', alpha=0.3, density=True, label='Outlier')"
   ]
  },
  {
   "cell_type": "code",
   "execution_count": 11,
   "metadata": {},
   "outputs": [
    {
     "data": {
      "text/plain": [
       "<matplotlib.legend.Legend at 0x7f35cd13b198>"
      ]
     },
     "execution_count": 11,
     "metadata": {},
     "output_type": "execute_result"
    },
    {
     "data": {
      "image/png": "[encoded data removed]",
      "text/plain": [
       "<Figure size 432x288 with 1 Axes>"
      ]
     },
     "metadata": {},
     "output_type": "display_data"
    }
   ],
   "source": [
    "plt.hist(scores_in, bins=50, color='b', alpha=0.3, density=True, label='Inlier')\n",
    "plt.hist(scores_ELL, bins=20, color='r', alpha=0.3, density=True, label='ELL')\n",
    "plt.hist(scores_TDE, bins=1, color='g', alpha=0.3, density=True, label='TDE')\n",
    "plt.hist(scores_SNIIb, bins=20, color='y', alpha=0.3, density=True, label='SNIIb')\n",
    "plt.hist(scores_WR, bins=10, color='k', alpha=0.3, density=True, label='WRayot')\n",
    "plt.legend()"
   ]
  },
  {
   "cell_type": "code",
   "execution_count": null,
   "metadata": {},
   "outputs": [],
   "source": []
  }
 ],
 "metadata": {
  "kernelspec": {
   "display_name": "Python 3",
   "language": "python",
   "name": "python3"
  },
  "language_info": {
   "codemirror_mode": {
    "name": "ipython",
    "version": 3
   },
   "file_extension": ".py",
   "mimetype": "text/x-python",
   "name": "python",
   "nbconvert_exporter": "python",
   "pygments_lexer": "ipython3",
   "version": "3.6.5"
  }
 },
 "nbformat": 4,
 "nbformat_minor": 2
}
