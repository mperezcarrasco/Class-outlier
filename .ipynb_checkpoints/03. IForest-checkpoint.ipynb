{
 "cells": [
  {
   "cell_type": "markdown",
   "metadata": {},
   "source": [
    "# Isolation Forest: IForest\n",
    "\n",
    "In this notebook we explore the using of IForest for anomaly detection. For this purpose, we will use the following procedure:\n",
    "\n",
    "1. We use the public test set for the training process. We randomly select 80% of the non-contaminated data for training, and the remaining 20% + contaminated data is used for validation.\n",
    "2. The performance of the model was measured over the private test set.\n",
    "\n",
    "We perform cross-validation to select the hyperparameter \"contamination\", which defines amount of contaminated data in the dataset. For the rest of the hyperparameters.\n",
    "The number of trees is setted as $n_{t}=100$, as the original paper suggests."
   ]
  },
  {
   "cell_type": "code",
   "execution_count": 2,
   "metadata": {},
   "outputs": [],
   "source": [
    "from sklearn.metrics import roc_auc_score\n",
    "from sklearn.ensemble import IsolationForest\n",
    "\n",
    "import matplotlib.pyplot as plt\n",
    "import pandas as pd\n",
    "import numpy as np"
   ]
  },
  {
   "cell_type": "code",
   "execution_count": 2,
   "metadata": {},
   "outputs": [],
   "source": [
    "from torchvision import datasets\n",
    "\n",
    "def get_mnist(anormal_class, data_dir='./data/mnist/'):\n",
    "    \n",
    "    train = datasets.MNIST(root=data_dir, train=True, download=True)\n",
    "    test = datasets.MNIST(root=data_dir, train=False, download=True)\n",
    "\n",
    "    x_train = (train.data).float()/255.\n",
    "    y_train = train.targets\n",
    "\n",
    "    x_train = x_train[np.where(y_train!=anormal_class)]\n",
    "    y_train = y_train[np.where(y_train!=anormal_class)]\n",
    "    y2_train = np.where(y_train==anormal_class, 1, 0)\n",
    "    data_train = x_train.view(x_train.size(0), -1), y_train, y2_train\n",
    "    \n",
    "    x_test = (test.data).float()/255.\n",
    "    y_test = test.targets\n",
    "    y2_test = np.where(y_test==anormal_class, 1, 0)\n",
    "    data_test = x_test.view(x_test.size(0), -1), y_test, y2_test\n",
    "    return data_train, data_test"
   ]
  },
  {
   "cell_type": "code",
   "execution_count": 3,
   "metadata": {},
   "outputs": [],
   "source": [
    "anormal_class = 5\n",
    "data_train, data_test = get_mnist(anormal_class)\n",
    "x_train, _, y_train = data_train\n",
    "x_test, _, y_test = data_test\n",
    "\n",
    "N_val = int(x_test.size(0)*0.9)"
   ]
  },
  {
   "cell_type": "code",
   "execution_count": null,
   "metadata": {},
   "outputs": [],
   "source": [
    "x_val = x_test[N_val:]\n",
    "y_val = y_test[N_val:]\n",
    "x_test = x_test[:N_val]\n",
    "y_test = y_test[:N_val]"
   ]
  },
  {
   "cell_type": "code",
   "execution_count": 4,
   "metadata": {},
   "outputs": [
    {
     "name": "stdout",
     "output_type": "stream",
     "text": [
      "The f1-score for IForest using contamination=0.001 is 90.86174529158845\n",
      "The f1-score for IForest using contamination=0.001 is 90.85513565891473\n",
      "The f1-score for IForest using contamination=0.001 is 90.85624318759841\n",
      "The f1-score for IForest using contamination=0.001 is 90.87606708239994\n",
      "The f1-score for IForest using contamination=0.001 is 90.86945991765562\n",
      "The f1-score for IForest using contamination=0.005 is 90.69725104678682\n",
      "The f1-score for IForest using contamination=0.005 is 90.78891516584805\n",
      "The f1-score for IForest using contamination=0.005 is 90.72590434571498\n",
      "The f1-score for IForest using contamination=0.005 is 90.66294317629917\n",
      "The f1-score for IForest using contamination=0.005 is 90.7203981307277\n",
      "The f1-score for IForest using contamination=0.01 is 90.56190707856969\n",
      "The f1-score for IForest using contamination=0.01 is 90.59080962800876\n",
      "The f1-score for IForest using contamination=0.01 is 90.52977312815521\n",
      "The f1-score for IForest using contamination=0.01 is 90.51068233002617\n",
      "The f1-score for IForest using contamination=0.01 is 90.52196130916171\n",
      "The f1-score for IForest using contamination=0.015 is 90.27337075909202\n",
      "The f1-score for IForest using contamination=0.015 is 90.27769301190114\n",
      "The f1-score for IForest using contamination=0.015 is 90.10021999511123\n",
      "The f1-score for IForest using contamination=0.015 is 90.25090043342897\n",
      "The f1-score for IForest using contamination=0.015 is 90.2580369669981\n"
     ]
    }
   ],
   "source": [
    "contaminations = [0.001, 0.005, 0.01, 0.015]\n",
    "\n",
    "mean_f1 = []\n",
    "std_f1 = []\n",
    "for contamination in contaminations:\n",
    "    f1s = []\n",
    "    for rep in range(5):\n",
    "        x_train, x_test, y_test = split_data(x_data, y_data)\n",
    "        clf = IsolationForest(contamination=contamination).fit(x_train)\n",
    "        y_pred =  clf.predict(x_test)\n",
    "        f1 = f1_score(y_test, y_pred, average='binary')\n",
    "        f1s.append(f1)\n",
    "        print('The f1-score for IForest using contamination={} is {}'.format(contamination, f1*100))\n",
    "    mean_f1.append(np.mean(f1s))\n",
    "    std_f1.append(np.std(f1s))"
   ]
  },
  {
   "cell_type": "code",
   "execution_count": 5,
   "metadata": {},
   "outputs": [
    {
     "data": {
      "image/png": "[encoded data removed]",
      "text/plain": [
       "<Figure size 432x288 with 1 Axes>"
      ]
     },
     "metadata": {},
     "output_type": "display_data"
    }
   ],
   "source": [
    "plt.errorbar(contaminations, mean_f1, yerr=std_f1, color='k', ecolor='r')\n",
    "plt.grid()\n",
    "plt.show()"
   ]
  },
  {
   "cell_type": "markdown",
   "metadata": {},
   "source": [
    "## Using contamination=0.01:"
   ]
  },
  {
   "cell_type": "code",
   "execution_count": 4,
   "metadata": {},
   "outputs": [
    {
     "name": "stderr",
     "output_type": "stream",
     "text": [
      "/home/ec2-user/anaconda3/envs/pytorch_p36/lib/python3.6/site-packages/ipykernel_launcher.py:9: SettingWithCopyWarning: \n",
      "A value is trying to be set on a copy of a slice from a DataFrame.\n",
      "Try using .loc[row_indexer,col_indexer] = value instead\n",
      "\n",
      "See the caveats in the documentation: http://pandas.pydata.org/pandas-docs/stable/indexing.html#indexing-view-versus-copy\n",
      "  if __name__ == '__main__':\n",
      "/home/ec2-user/anaconda3/envs/pytorch_p36/lib/python3.6/site-packages/pandas/core/frame.py:3414: SettingWithCopyWarning: \n",
      "A value is trying to be set on a copy of a slice from a DataFrame\n",
      "\n",
      "See the caveats in the documentation: http://pandas.pydata.org/pandas-docs/stable/indexing.html#indexing-view-versus-copy\n",
      "  self._where(-key, value, inplace=True)\n",
      "/home/ec2-user/anaconda3/envs/pytorch_p36/lib/python3.6/site-packages/sklearn/ensemble/iforest.py:223: FutureWarning: behaviour=\"old\" is deprecated and will be removed in version 0.22. Please use behaviour=\"new\", which makes the decision_function change to match other anomaly detection algorithm API.\n",
      "  FutureWarning)\n"
     ]
    }
   ],
   "source": [
    "train = pd.read_pickle('train_data.pkl')\n",
    "train = train[(train['n_det_1']>=10) & (train['n_det_2']>=10)]\n",
    "train = train[train.hierClass=='Periodic']\n",
    "\n",
    "importances = np.load('importances.npy').item()\n",
    "x_train = train[importances['periodic_importance']]\n",
    "\n",
    "\n",
    "x_train[np.isnan(x_train)] = -999\n",
    "\n",
    "clf = IsolationForest(contamination=0.001).fit(x_train)"
   ]
  },
  {
   "cell_type": "code",
   "execution_count": 5,
   "metadata": {},
   "outputs": [
    {
     "name": "stderr",
     "output_type": "stream",
     "text": [
      "/home/ec2-user/anaconda3/envs/pytorch_p36/lib/python3.6/site-packages/ipykernel_launcher.py:7: SettingWithCopyWarning: \n",
      "A value is trying to be set on a copy of a slice from a DataFrame.\n",
      "Try using .loc[row_indexer,col_indexer] = value instead\n",
      "\n",
      "See the caveats in the documentation: http://pandas.pydata.org/pandas-docs/stable/indexing.html#indexing-view-versus-copy\n",
      "  import sys\n",
      "/home/ec2-user/anaconda3/envs/pytorch_p36/lib/python3.6/site-packages/pandas/core/frame.py:3414: SettingWithCopyWarning: \n",
      "A value is trying to be set on a copy of a slice from a DataFrame\n",
      "\n",
      "See the caveats in the documentation: http://pandas.pydata.org/pandas-docs/stable/indexing.html#indexing-view-versus-copy\n",
      "  self._where(-key, value, inplace=True)\n"
     ]
    }
   ],
   "source": [
    "test = pd.read_pickle('test_data.pkl')\n",
    "test = test[(test['n_det_1']>=10) & (test['n_det_2']>=10)]\n",
    "test = test[test.hierClass=='Periodic']\n",
    "\n",
    "x_test = test[importances['periodic_importance']]\n",
    "\n",
    "x_test[np.isnan(x_test)] = -999"
   ]
  },
  {
   "cell_type": "code",
   "execution_count": 6,
   "metadata": {},
   "outputs": [],
   "source": [
    "x_in = x_test[test.outClass=='Inlier']\n",
    "x_out = x_test[test.outClass=='Outlier']\n",
    "\n",
    "x_ELL = x_test[test.classALeRCE == 'ELL']"
   ]
  },
  {
   "cell_type": "code",
   "execution_count": 7,
   "metadata": {},
   "outputs": [],
   "source": [
    "scores_in =  clf.score_samples(x_in)\n",
    "scores_out =  clf.score_samples(x_out)\n",
    "\n",
    "scores_ELL = clf.score_samples(x_ELL)"
   ]
  },
  {
   "cell_type": "code",
   "execution_count": 9,
   "metadata": {},
   "outputs": [
    {
     "data": {
      "text/plain": [
       "(array([ 5.39529315,  0.        ,  0.        ,  5.39529315, 10.7905863 ,\n",
       "        16.18587945, 16.18587945, 16.18587945, 10.7905863 , 10.7905863 ]),\n",
       " array([-0.49016001, -0.47925726, -0.46835451, -0.45745176, -0.44654901,\n",
       "        -0.43564626, -0.42474351, -0.41384076, -0.40293801, -0.39203526,\n",
       "        -0.38113252]),\n",
       " <a list of 10 Patch objects>)"
      ]
     },
     "execution_count": 9,
     "metadata": {},
     "output_type": "execute_result"
    },
    {
     "data": {
      "image/png": "[encoded data removed]",
      "text/plain": [
       "<Figure size 432x288 with 1 Axes>"
      ]
     },
     "metadata": {},
     "output_type": "display_data"
    }
   ],
   "source": [
    "plt.hist(scores_in, bins=50, color='b', alpha=0.3, density=True, label='Inlier')\n",
    "plt.hist(scores_out, bins=10, color='r', alpha=0.3, density=True, label='Outlier')"
   ]
  },
  {
   "cell_type": "code",
   "execution_count": null,
   "metadata": {},
   "outputs": [],
   "source": []
  }
 ],
 "metadata": {
  "kernelspec": {
   "display_name": "Python 3",
   "language": "python",
   "name": "python3"
  },
  "language_info": {
   "codemirror_mode": {
    "name": "ipython",
    "version": 3
   },
   "file_extension": ".py",
   "mimetype": "text/x-python",
   "name": "python",
   "nbconvert_exporter": "python",
   "pygments_lexer": "ipython3",
   "version": "3.6.5"
  }
 },
 "nbformat": 4,
 "nbformat_minor": 2
}
