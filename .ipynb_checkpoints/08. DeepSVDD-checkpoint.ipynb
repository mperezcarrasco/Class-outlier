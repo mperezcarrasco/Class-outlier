{
 "cells": [
  {
   "cell_type": "code",
   "execution_count": 1,
   "metadata": {},
   "outputs": [],
   "source": [
    "import matplotlib.pyplot as plt \n",
    "from sklearn.manifold import TSNE\n",
    "import numpy as np\n",
    "import torch\n",
    "\n",
    "from deepsvdd.train import TrainerDeepSVDD\n",
    "from deepsvdd.test import eval\n",
    "from preprocess_singlein import get_mnist"
   ]
  },
  {
   "cell_type": "code",
   "execution_count": 2,
   "metadata": {
    "scrolled": true
   },
   "outputs": [
    {
     "ename": "AttributeError",
     "evalue": "'Args' object has no attribute 'lr_milestones_ae'",
     "output_type": "error",
     "traceback": [
      "\u001b[0;31m---------------------------------------------------------------------------\u001b[0m",
      "\u001b[0;31mAttributeError\u001b[0m                            Traceback (most recent call last)",
      "\u001b[0;32m<ipython-input-2-f6c9999dce75>\u001b[0m in \u001b[0;36m<module>\u001b[0;34m()\u001b[0m\n\u001b[1;32m     21\u001b[0m \u001b[0;34m\u001b[0m\u001b[0m\n\u001b[1;32m     22\u001b[0m \u001b[0;32mif\u001b[0m \u001b[0margs\u001b[0m\u001b[0;34m.\u001b[0m\u001b[0mpretrain\u001b[0m\u001b[0;34m:\u001b[0m\u001b[0;34m\u001b[0m\u001b[0m\n\u001b[0;32m---> 23\u001b[0;31m     \u001b[0mdeep_SVDD\u001b[0m\u001b[0;34m.\u001b[0m\u001b[0mpretrain\u001b[0m\u001b[0;34m(\u001b[0m\u001b[0;34m)\u001b[0m\u001b[0;34m\u001b[0m\u001b[0m\n\u001b[0m",
      "\u001b[0;32m~/Class-outlier/deepsvdd/train.py\u001b[0m in \u001b[0;36mpretrain\u001b[0;34m(self)\u001b[0m\n\u001b[1;32m     25\u001b[0m                                weight_decay=self.args.weight_decay_ae)\n\u001b[1;32m     26\u001b[0m         scheduler = optim.lr_scheduler.MultiStepLR(optimizer,\n\u001b[0;32m---> 27\u001b[0;31m                     milestones=self.args.lr_milestones_ae, gamma=0.1)\n\u001b[0m\u001b[1;32m     28\u001b[0m \u001b[0;34m\u001b[0m\u001b[0m\n\u001b[1;32m     29\u001b[0m         \u001b[0mself\u001b[0m\u001b[0;34m.\u001b[0m\u001b[0mae\u001b[0m\u001b[0;34m.\u001b[0m\u001b[0mtrain\u001b[0m\u001b[0;34m(\u001b[0m\u001b[0;34m)\u001b[0m\u001b[0;34m\u001b[0m\u001b[0m\n",
      "\u001b[0;31mAttributeError\u001b[0m: 'Args' object has no attribute 'lr_milestones_ae'"
     ]
    }
   ],
   "source": [
    "class Args:\n",
    "    num_epochs=250\n",
    "    num_epochs_ae=350\n",
    "    patience=100\n",
    "    lr=1e-4\n",
    "    weight_decay=0.5e-6\n",
    "    weight_decay_ae=0.5e-3\n",
    "    lr_ae=1e-4\n",
    "    lr_milestones_ae=[250]\n",
    "    lr_milestones=[150]\n",
    "    batch_size=200\n",
    "    pretrain=True\n",
    "    latent_dim=32\n",
    "    anormal_class=5\n",
    "    \n",
    "args = Args()\n",
    "device = torch.device('cuda' if torch.cuda.is_available() else 'cpu')\n",
    "dataloader_train, dataloader_val, dataloader_test = get_mnist(args)\n",
    "\n",
    "deep_SVDD = TrainerDeepSVDD(args, dataloader_train, dataloader_val, device)\n",
    "\n",
    "if args.pretrain:\n",
    "    deep_SVDD.pretrain()"
   ]
  },
  {
   "cell_type": "code",
   "execution_count": null,
   "metadata": {},
   "outputs": [],
   "source": [
    "deep_SVDD.train()"
   ]
  },
  {
   "cell_type": "code",
   "execution_count": null,
   "metadata": {},
   "outputs": [],
   "source": [
    "import torch\n",
    "\n",
    "from sklearn.metrics import roc_auc_score\n",
    "\n",
    "def eval(net, c, dataloader, device):\n",
    "    \"\"\"Testing the Deep SVDD model\"\"\"\n",
    "\n",
    "    scores = []\n",
    "    labels1 = []\n",
    "    labels2 = []\n",
    "    net.eval()\n",
    "    print('Testing...')\n",
    "    with torch.no_grad():\n",
    "        for x, y1, y2 in dataloader:\n",
    "            x = x.float().to(device)\n",
    "            z = net(x)\n",
    "            score = torch.sum((z - c) ** 2, dim=1)\n",
    "\n",
    "            scores.append(score.detach().cpu())\n",
    "            labels1.append(y1.cpu())\n",
    "            labels2.append(y2.cpu())\n",
    "    labels1, labels2, scores = torch.cat(labels1).numpy(), torch.cat(labels2).numpy(), torch.cat(scores).numpy()\n",
    "    print('ROC AUC score: {:.3f}'.format(roc_auc_score(labels2, scores)))\n",
    "    return labels1, labels2, scores\n",
    "\n",
    "labels1, labels2, scores = eval(deep_SVDD.net, deep_SVDD.c, dataloader_test, device)"
   ]
  },
  {
   "cell_type": "code",
   "execution_count": null,
   "metadata": {},
   "outputs": [],
   "source": [
    "scores_in = scores[labels1==0]\n",
    "scores_out = scores[labels1==1]"
   ]
  },
  {
   "cell_type": "code",
   "execution_count": null,
   "metadata": {},
   "outputs": [],
   "source": [
    "plt.hist(scores_in, bins=100, color='b', alpha=0.3, density=True, label='Inlier')\n",
    "plt.hist(scores_out, bins=100, color='r', alpha=0.3, density=True, label='Outlier')\n",
    "plt.xlim(-0.0001, 0.005)\n",
    "plt.legend()"
   ]
  },
  {
   "cell_type": "code",
   "execution_count": null,
   "metadata": {},
   "outputs": [],
   "source": [
    "ROC AUC score: 0.609\n"
   ]
  },
  {
   "cell_type": "code",
   "execution_count": null,
   "metadata": {},
   "outputs": [],
   "source": []
  }
 ],
 "metadata": {
  "kernelspec": {
   "display_name": "Python 3",
   "language": "python",
   "name": "python3"
  },
  "language_info": {
   "codemirror_mode": {
    "name": "ipython",
    "version": 3
   },
   "file_extension": ".py",
   "mimetype": "text/x-python",
   "name": "python",
   "nbconvert_exporter": "python",
   "pygments_lexer": "ipython3",
   "version": "3.6.5"
  }
 },
 "nbformat": 4,
 "nbformat_minor": 2
}
